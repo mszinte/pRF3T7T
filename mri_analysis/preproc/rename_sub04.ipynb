{
 "cells": [
  {
   "cell_type": "code",
   "execution_count": null,
   "metadata": {},
   "outputs": [],
   "source": [
    "import os\n",
    "import shutil\n",
    "import warnings\n",
    "warnings.filterwarnings('ignore')\n",
    "from mp2rage_genUniDen import *"
   ]
  },
  {
   "cell_type": "code",
   "execution_count": null,
   "metadata": {},
   "outputs": [],
   "source": [
    "subjects = ['sub-04'];\n",
    "ssh_cmd = 'ssh mszinte@login.mesocentre.univ-amu.fr'\n",
    "scratch_dir = ['/scratch/mszinte/data',\n",
    "               '/home/mszinte/disks/meso_S/data']\n",
    "\n",
    "bids_dir = [\"{}/pRF3T7T\".format(scratch_dir[0]),\n",
    "            \"{}/pRF3T7T\".format(scratch_dir[1])]\n",
    "deriv_dir = [\"{}/derivatives\".format(bids_dir[0]),\n",
    "             \"{}/derivatives\".format(bids_dir[1])]\n",
    "source_dir = [\"{}/sourcedata\".format(bids_dir[0]),\n",
    "              \"{}/sourcedata\".format(bids_dir[1])]\n",
    "\n",
    "end_files = ['.nii.gz','.json']"
   ]
  },
  {
   "cell_type": "markdown",
   "metadata": {},
   "source": [
    "### MPR2RAGEME adaptation to T1w"
   ]
  },
  {
   "cell_type": "code",
   "execution_count": null,
   "metadata": {},
   "outputs": [],
   "source": [
    "# get T1w image\n",
    "anat_raw_dir = '{}/pilot002-vision_bids/sub-002/anat'.format(source_dir[1])\n",
    "mp2rage_genUniDen(MP2RAGE_filenameUNI='{}/sub-002_acq-UNI_run-01_MP2RAGE.nii.gz'.format(anat_raw_dir),\n",
    "                  MP2RAGE_filenameINV1='{}/sub-002_inv-1_run-01_part-mag_MP2RAGE.nii.gz'.format(anat_raw_dir),\n",
    "                  MP2RAGE_filenameINV2='{}/sub-002_inv-2_run-01_part-mag_MP2RAGE.nii.gz'.format(anat_raw_dir),\n",
    "                  MP2RAGE_uniden_output_filename='{}/sub-002_uniden_run-01_part-mag_MP2RAGE.nii.gz'.format(anat_raw_dir),\n",
    "                  chosenFactor=6)"
   ]
  },
  {
   "cell_type": "markdown",
   "metadata": {},
   "source": [
    "### Copy files in BIDS format"
   ]
  },
  {
   "cell_type": "code",
   "execution_count": null,
   "metadata": {},
   "outputs": [],
   "source": [
    "for subject in subjects:\n",
    "    sub_folder = [\"{}/{}\".format(bids_dir[0], subject),\n",
    "                  \"{}/{}\".format(bids_dir[1], subject)]\n",
    "    \n",
    "    for ses in ['ses-01']:\n",
    "        ses_folder = ['{}/{}'.format(sub_folder[0], ses),\n",
    "                      '{}/{}'.format(sub_folder[1], ses)]\n",
    "        \n",
    "        # create directories\n",
    "        anat_folder = ['{}/anat'.format(ses_folder[0]),\n",
    "                       '{}/anat'.format(ses_folder[1])]\n",
    "        fmap_folder = ['{}/fmap'.format(ses_folder[0]),\n",
    "                       '{}/fmap'.format(ses_folder[1])]\n",
    "        func_folder = ['{}/func'.format(ses_folder[0]),\n",
    "                       '{}/func'.format(ses_folder[1])]\n",
    "        for new_dir in [anat_folder[1],fmap_folder[1],func_folder[1]]:\n",
    "            try: os.makedirs(new_dir)\n",
    "            except: pass\n",
    "        \n",
    "#         # move anat t1w\n",
    "#         orig_t1w_file = '{}/pilot002-vision_bids/sub-002/anat/sub-002_uniden_run-01_part-mag_MP2RAGE.nii.gz'.format(source_dir[0])\n",
    "#         dest_t1w_file = '{}/{}_{}_T1w.nii.gz'.format(anat_folder[0],subject,ses)\n",
    "#         os.system(\"{} rsync -avuz {} {}\".format(ssh_cmd, orig_t1w_file,dest_t1w_file))\n",
    "        \n",
    "#         orig_t1w_file = '{}/pilot002-vision_bids/sub-002/anat/sub-002_acq-UNI_run-01_MP2RAGE.json'.format(source_dir[0])\n",
    "#         dest_t1w_file = '{}/{}_{}_T1w.json'.format(anat_folder[0],subject,ses)\n",
    "#         print(orig_t1w_file,dest_t1w_file)\n",
    "#         os.system(\"{} rsync -avuz {} {}\".format(ssh_cmd, orig_t1w_file,dest_t1w_file))\n",
    "        \n",
    "#         # move anat t2w\n",
    "#         for end_file in end_files:\n",
    "#             orig_t2w_file = '{}/pilot002-vision_bids/sub-002/anat/sub-002_acq-TSE_run-01_T2w{}'.format(source_dir[0],end_file)\n",
    "#             dest_t2w_file = '{}/{}_{}_T2w{}'.format(anat_folder[0],subject,ses,end_file)\n",
    "#             os.system(\"{} rsync -avuz {} {}\".format(ssh_cmd, orig_t2w_file,dest_t2w_file))\n",
    "        \n",
    "#         # move func retino\n",
    "#         for run in ['run-01','run-02']:\n",
    "#             for end_file in end_files:\n",
    "#                 orig_func_file = '{}/pilot002-vision_bids/sub-002/func/sub-002_task-retin_dir-AP_{}_bold{}'.format(source_dir[0],run,end_file)\n",
    "#                 dest_func_file = '{}/{}_{}_task-pRF7T_dir-AP_{}_bold{}'.format(func_folder[0],subject,ses,run,end_file)\n",
    "#                 os.system(\"{} rsync -avuz {} {}\".format(ssh_cmd, orig_func_file,dest_func_file))\n",
    "        \n",
    "#         # move fmap topup retino\n",
    "#         for end_file in end_files:\n",
    "#             orig_fmap_file = '{}/pilot002-vision_bids/sub-002/func/sub-002_task-retin_dir-PA_run-01_bold{}'.format(source_dir[0],end_file)\n",
    "#             dest_fmap_file = '{}/{}_{}_dir-PA_run-01_epi{}'.format(fmap_folder[0],subject,ses,end_file)\n",
    "#             os.system(\"{} rsync -avuz {} {}\".format(ssh_cmd, orig_fmap_file,dest_fmap_file))\n",
    "        \n",
    "        # move fmap fieldmap/magnitude\n",
    "        for end_file in end_files:\n",
    "            orig_fmap_file = '{}/pilot002-vision_bids/sub-002/fmap/sub-002_part-mag_run-02_TB1TFL{}'.format(source_dir[0],end_file)\n",
    "            dest_fmap_file = '{}/{}_{}_fieldmap{}'.format(fmap_folder[0],subject,ses,end_file)\n",
    "            os.system(\"{} rsync -avuz {} {}\".format(ssh_cmd, orig_fmap_file,dest_fmap_file))\n",
    "            \n",
    "            orig_fmap_file = '{}/pilot002-vision_bids/sub-002/fmap/sub-002_part-mag_run-01_TB1TFL{}'.format(source_dir[0],end_file)\n",
    "            dest_fmap_file = '{}/{}_{}_magnitude{}'.format(fmap_folder[0],subject,ses,end_file)\n",
    "            os.system(\"{} rsync -avuz {} {}\".format(ssh_cmd, orig_fmap_file,dest_fmap_file))\n",
    "        "
   ]
  },
  {
   "cell_type": "markdown",
   "metadata": {},
   "source": [
    "### Manual modifications\n",
    "- [x] Copy _event files in BIDS folder\n",
    "- [x] Add IntendedFor entry in .json files of fmap scans\n",
    "- [x] Add \"Units\": \"Hz\" in _fieldmaps.json file"
   ]
  },
  {
   "cell_type": "code",
   "execution_count": null,
   "metadata": {},
   "outputs": [],
   "source": []
  }
 ],
 "metadata": {
  "kernelspec": {
   "display_name": "mszinte",
   "language": "python",
   "name": "mszinte"
  },
  "language_info": {
   "codemirror_mode": {
    "name": "ipython",
    "version": 3
   },
   "file_extension": ".py",
   "mimetype": "text/x-python",
   "name": "python",
   "nbconvert_exporter": "python",
   "pygments_lexer": "ipython3",
   "version": "3.9.12"
  }
 },
 "nbformat": 4,
 "nbformat_minor": 4
}
