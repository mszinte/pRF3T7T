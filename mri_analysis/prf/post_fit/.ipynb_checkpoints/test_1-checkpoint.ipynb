{
 "cells": [
  {
   "cell_type": "markdown",
   "metadata": {},
   "source": [
    "# todo (18/05/2021)\n",
    "* __rsync data of one participant (locEMsexp)__\n",
    "* __basic visualization__\n",
    "* __experimental design__\n",
    "* __try first level_glm__"
   ]
  },
  {
   "cell_type": "markdown",
   "metadata": {},
   "source": [
    "# todo next\n",
    "* try concatened runs instead of average\n",
    "* save the different glmn output as nifti images and look at them in sofwares\n",
    "* put them in pycortex flatmaps and draw areas\n",
    "% GLM of pRF to later delete\n",
    "% GLM of smooth pursuit\n",
    "% comparison smooth pursuit vs saccade\n",
    "% other subject\n",
    "% mni average subjects"
   ]
  },
  {
   "cell_type": "markdown",
   "metadata": {},
   "source": [
    "# questions\n",
    "* is it better to do glm from average runs or concatenated runs ?"
   ]
  },
  {
   "cell_type": "code",
   "execution_count": null,
   "metadata": {},
   "outputs": [],
   "source": [
    "# imports\n",
    "import os\n",
    "import numpy as np\n",
    "import pandas as pd\n",
    "from nilearn import image, datasets, plotting, surface\n",
    "from nilearn.glm.first_level import FirstLevelModel\n",
    "from nilearn.glm import threshold_stats_img\n",
    "from nilearn.plotting import plot_design_matrix, plot_stat_map, plot_anat, plot_img\n",
    "import matplotlib.pyplot as plt"
   ]
  },
  {
   "cell_type": "code",
   "execution_count": null,
   "metadata": {},
   "outputs": [],
   "source": [
    "# inputs\n",
    "# user_login = 'mszinte'\n",
    "user_login = 'vmorita'\n",
    "subject = 'sub-01'\n",
    "session = 'ses-01'\n",
    "task = 'SacLoc'\n",
    "space = 'T1w'\n",
    "run = 'run-1'\n",
    "preproc = 'fmriprep_dct'\n",
    "tr_dur = 1.2\n",
    "cwd = os.getcwd()"
   ]
  },
  {
   "cell_type": "code",
   "execution_count": null,
   "metadata": {},
   "outputs": [],
   "source": [
    "# rsync func data\n",
    "trans_cmd = 'rsync -avuz --progress'\n",
    "orig_file = '{}@login.mesocentre.univ-amu.fr:/scratch/mszinte/data/PredictEye/pp_data/{}/func'.\\\n",
    "                format(user_login,subject)\n",
    "dest_file = '{}/pp_data/{}/func'.format(cwd,subject)\n",
    "try: os.makedirs(dest_file)\n",
    "except: pass\n",
    "\n",
    "print(\"{cmd} {orig} {dest}\".format(cmd = trans_cmd, orig = orig_file, dest = dest_file))\n",
    "# os.system(\"{cmd} {orig} {dest}\".format(cmd = trans_cmd, orig = orig_file, dest = dest_file))"
   ]
  },
  {
   "cell_type": "code",
   "execution_count": null,
   "metadata": {},
   "outputs": [],
   "source": [
    "# rsync anat data\n",
    "trans_cmd = 'rsync -avuz --progress'\n",
    "orig_file = '{user_login}@login.mesocentre.univ-amu.fr:/scratch/mszinte/data/PredictEye/deriv_data/fmriprep/fmriprep/{subject}/anat/{subject}_desc-preproc_T1w.nii.gz'.\\\n",
    "                format(user_login=user_login, subject=subject)\n",
    "dest_file = '{}/pp_data/{}/anat'.format(cwd,subject)\n",
    "try: os.makedirs(dest_file)\n",
    "except: pass\n",
    "\n",
    "print(\"{cmd} {orig} {dest}\".format(cmd = trans_cmd, orig = orig_file, dest = dest_file))\n",
    "# os.system(\"{cmd} {orig} {dest}\".format(cmd = trans_cmd, orig = orig_file, dest = dest_file))"
   ]
  },
  {
   "cell_type": "code",
   "execution_count": null,
   "metadata": {},
   "outputs": [],
   "source": [
    "# rsync events data\n",
    "trans_cmd = 'rsync -avuz --progress'\n",
    "orig_file = '{user_login}@login.mesocentre.univ-amu.fr:/scratch/mszinte/data/PredictEye/bids_data/{subject}/{session}/func/{subject}_{session}_task-{task}_run-*_events.tsv'.\\\n",
    "                format(user_login=user_login, subject=subject, session=session, task=task)\n",
    "dest_file = '{}/pp_data/{}/events'.format(cwd,subject)\n",
    "try: os.makedirs(dest_file)\n",
    "except: pass\n",
    "\n",
    "print(\"{cmd} {orig} {dest}\".format(cmd = trans_cmd, orig = orig_file, dest = dest_file))\n",
    "# os.system(\"{cmd} {orig} {dest}\".format(cmd = trans_cmd, orig = orig_file, dest = dest_file))"
   ]
  },
  {
   "cell_type": "code",
   "execution_count": null,
   "metadata": {},
   "outputs": [],
   "source": [
    "# rsync surf data\n",
    "trans_cmd = 'rsync -avuz --progress'\n",
    "orig_file = '{user_login}@login.mesocentre.univ-amu.fr:/scratch/mszinte/data/PredictEye/deriv_data/fmriprep/freesurfer/{subject}/surf/'.\\\n",
    "                format(user_login=user_login, subject=subject)\n",
    "dest_file = '{}/pp_data/{}/surf'.format(cwd,subject)\n",
    "try: os.makedirs(dest_file)\n",
    "except: pass\n",
    "\n",
    "print(\"{cmd} {orig} {dest}\".format(cmd = trans_cmd, orig = orig_file, dest = dest_file))\n",
    "# os.system(\"{cmd} {orig} {dest}\".format(cmd = trans_cmd, orig = orig_file, dest = dest_file))"
   ]
  },
  {
   "cell_type": "code",
   "execution_count": null,
   "metadata": {},
   "outputs": [],
   "source": [
    "# plot t1w/t2w subject anat\n",
    "anat_img = \"pp_data/{subject}/anat/{subject}_desc-preproc_T1w.nii.gz\".\\\n",
    "                format(subject=subject)\n",
    "\n",
    "plotting.plot_anat(anat_img = anat_img)"
   ]
  },
  {
   "cell_type": "code",
   "execution_count": null,
   "metadata": {},
   "outputs": [],
   "source": [
    "# plot epi tr = 1\n",
    "file_img     = \"pp_data/{subject}/func/fmriprep_dct/{subject}_task-{task}_space-{space}_{run}_{preproc}.nii.gz\".\\\n",
    "                format(subject=subject,task=task,space=space,run=run,preproc=preproc)\n",
    "file_img_avg = \"pp_data/{subject}/func/{subject}_task-{task}_space-{space}_{preproc}_avg.nii.gz\".\\\n",
    "                format(subject=subject,task=task,space=space,preproc=preproc)\n",
    "plotting.plot_epi(epi_img = image.index_img(file_img, 0), cmap='viridis', black_bg=False)"
   ]
  },
  {
   "cell_type": "code",
   "execution_count": null,
   "metadata": {},
   "outputs": [],
   "source": [
    "# create design table\n",
    "design_file_run1 = '{cwd}/pp_data/{subject}/events/{subject}_{session}_task-{task}_{run}_events.tsv'.\\\n",
    "                        format(cwd=cwd, subject=subject, session=session, task=task, run='run-01')\n",
    "events_run1 = pd.read_table(design_file_run1)\n",
    "\n",
    "design_file_run2 = '{cwd}/pp_data/{subject}/events/{subject}_{session}_task-{task}_{run}_events.tsv'.\\\n",
    "                        format(cwd=cwd, subject=subject, session=session, task=task, run='run-02')\n",
    "events_run2 = pd.read_table(design_file_run2)"
   ]
  },
  {
   "cell_type": "code",
   "execution_count": null,
   "metadata": {},
   "outputs": [],
   "source": [
    "events_run1_glm = events_run1[['onset','duration','trial_type']].copy(deep=True)\n",
    "events_run1_glm.replace({'trial_type': {3: 'Fix', 1: 'Sac', 2: 'Pur'}},inplace=True)\n",
    "events_run1_glm_groups = events_run1_glm.groupby((events_run1_glm.trial_type!=events_run1_glm.trial_type.shift()).cumsum())\n",
    "\n",
    "events_run1_glm = pd.DataFrame([], columns=['onset', 'duration', 'trial_type'])\n",
    "for idx, group in enumerate(events_run1_glm_groups):\n",
    "    onset = group[1]['onset'][group[1].index[0]]\n",
    "    dur = np.round(sum(group[1]['duration']*10))/10\n",
    "    type = group[1]['trial_type'][group[1].index[0]]\n",
    "\n",
    "    events_run1_glm = events_run1_glm.append(pd.Series([onset,dur,type],index =['onset', 'duration', 'trial_type']), ignore_index=True)\n",
    "\n",
    "events_run1_glm['onset'] = np.floor((events_run1_glm['onset']-events_run1_glm['onset'][0])*10)/10\n",
    "events_run1_glm"
   ]
  },
  {
   "cell_type": "code",
   "execution_count": null,
   "metadata": {},
   "outputs": [],
   "source": [
    "onset = [    0*tr_dur,\n",
    "             16*tr_dur,\n",
    "             (16+32)*tr_dur,\n",
    "             (16+32+16)*tr_dur,\n",
    "             (16+32+16+32)*tr_dur,\n",
    "             (16+32+16+32+16)*tr_dur,\n",
    "             (16+32+16+32+16+32)*tr_dur,\n",
    "             (16+32+16+32+16+32+16)*tr_dur,\n",
    "             (16+32+16+32+16+32+16+32)*tr_dur]\n",
    "\n",
    "duration = [ 16*tr_dur,\n",
    "             32*tr_dur,\n",
    "             16*tr_dur,\n",
    "             32*tr_dur,\n",
    "             16*tr_dur,\n",
    "             32*tr_dur,\n",
    "             16*tr_dur,\n",
    "             32*tr_dur,\n",
    "             16*tr_dur,\n",
    "             ]\n",
    "\n",
    "trial_type = ['Fix','Sac','Fix','Sac','Fix','Sac','Fix','Sac','Fix']\n",
    "\n",
    "data = {'onset':onset,\n",
    "        'duration':duration,\n",
    "        'trial_type':trial_type}\n",
    "\n",
    "events_run1_glm = pd.DataFrame(data)\n",
    "events_run1_glm"
   ]
  },
  {
   "cell_type": "code",
   "execution_count": null,
   "metadata": {},
   "outputs": [],
   "source": [
    "# first level GLM\n",
    "fmri_glm = FirstLevelModel(t_r=tr_dur,\n",
    "                           noise_model='ar1',\n",
    "                           standardize=False,\n",
    "                           hrf_model='spm',\n",
    "                           drift_model='cosine',\n",
    "                           mask_img = False,\n",
    "                           high_pass=.01)\n",
    "\n",
    "fmri_img = file_img\n",
    "fmri_glm = fmri_glm.fit(fmri_img, events_run1_glm)"
   ]
  },
  {
   "cell_type": "code",
   "execution_count": null,
   "metadata": {},
   "outputs": [],
   "source": [
    "design_matrix = fmri_glm.design_matrices_[0]\n",
    "plot_design_matrix(design_matrix)\n",
    "plt.show()"
   ]
  },
  {
   "cell_type": "code",
   "execution_count": null,
   "metadata": {},
   "outputs": [],
   "source": [
    "plt.plot(design_matrix['Sac'])\n",
    "plt.xlabel('Time (seconds)')\n",
    "plt.title('Saccade periods')\n",
    "plt.show()"
   ]
  },
  {
   "cell_type": "code",
   "execution_count": null,
   "metadata": {},
   "outputs": [],
   "source": [
    "plt.plot(design_matrix['Fix'])\n",
    "plt.xlabel('Time (seconds)')\n",
    "plt.title('Fixation periods')\n",
    "plt.show()"
   ]
  },
  {
   "cell_type": "code",
   "execution_count": null,
   "metadata": {},
   "outputs": [],
   "source": [
    "conditions = { 'Fix': np.array([1., 0., 0., 0., 0., 0., 0.]),\n",
    "               'Sac': np.array([0., 1., 0., 0., 0., 0., 0.])}\n",
    "\n",
    "sac_minus_fix = conditions['Sac'] - conditions['Fix']\n",
    "plotting.plot_contrast_matrix(sac_minus_fix, design_matrix=design_matrix)"
   ]
  },
  {
   "cell_type": "code",
   "execution_count": null,
   "metadata": {},
   "outputs": [],
   "source": [
    "eff_map = fmri_glm.compute_contrast(sac_minus_fix,\n",
    "                                    output_type='effect_size')"
   ]
  },
  {
   "cell_type": "code",
   "execution_count": null,
   "metadata": {},
   "outputs": [],
   "source": [
    "z_map = fmri_glm.compute_contrast(sac_minus_fix,\n",
    "                                  output_type='z_score')"
   ]
  },
  {
   "cell_type": "code",
   "execution_count": null,
   "metadata": {},
   "outputs": [],
   "source": [
    "# save z_map TO-DO\n",
    "file_zmap     = \"pp_data/{subject}/func/fmriprep_dct/{subject}_task-{task}_space-{space}_{run}_{preproc}_zmap.nii.gz\".\\\n",
    "                format(subject=subject,task=task,space=space,run=run,preproc=preproc)\n",
    "file_zmap_avg = \"pp_data/{subject}/func/{subject}_task-{task}_space-{space}_{preproc}_avg_zmap.nii.gz\".\\\n",
    "                format(subject=subject,task=task,space=space,preproc=preproc)\n"
   ]
  },
  {
   "cell_type": "code",
   "execution_count": null,
   "metadata": {},
   "outputs": [],
   "source": [
    "# plot_stat_map(z_map, bg_img=anat_img, threshold=3.0,\n",
    "#               display_mode='z', cut_coords=3, black_bg=True,\n",
    "#               title='Active minus Rest (Z>3)')\n",
    "# plt.show()\n",
    "\n",
    "# interactive plot\n",
    "plotting.view_img(z_map, bg_img=anat_img, threshold=3, vmax=12, cut_coords=[-42, -16, 52], title=\"Active minus Rest (Z>3)\") "
   ]
  },
  {
   "cell_type": "code",
   "execution_count": null,
   "metadata": {},
   "outputs": [],
   "source": [
    "# https://nilearn.github.io/auto_examples/01_plotting/plot_3d_map_to_surface_projection.html#sphx-glr-auto-examples-01-plotting-plot-3d-map-to-surface-projection-py\n",
    "surf = {\n",
    "    'pial_left': '{}/pp_data/{}/surf/lh.pial'.format(cwd,subject),\n",
    "    'pial_right': '{}/pp_data/{}/surf/rh.pial'.format(cwd,subject),\n",
    "    'infl_left': '{}/pp_data/{}/surf/lh.inflated'.format(cwd,subject),\n",
    "    'infl_right': '{}/pp_data/{}/surf/rh.inflated'.format(cwd,subject),\n",
    "    'sulc_left': '{}/pp_data/{}/surf/lh.sulc'.format(cwd,subject),\n",
    "    'sulc_right': '{}/pp_data/{}/surf/rh.sulc'.format(cwd,subject)\n",
    "}\n",
    "\n",
    "texture = surface.vol_to_surf(z_map, surf['pial_right'])\n",
    "plotting.plot_surf_stat_map(surf['infl_right'], texture, hemi='right',\n",
    "                            title='Surface right hemisphere', colorbar=True,\n",
    "                            threshold=1., bg_map=surf['sulc_right'])\n",
    "\n",
    "# plotting.view_img_on_surf(z_map, surf_mesh=surf, threshold='90%')"
   ]
  },
  {
   "cell_type": "code",
   "execution_count": null,
   "metadata": {},
   "outputs": [],
   "source": [
    "_, threshold = threshold_stats_img(z_map, alpha=.001, height_control='fpr')\n",
    "print('Uncorrected p<0.001 threshold: %.3f' % threshold)\n",
    "# plot_stat_map(z_map, bg_img=anat_img, threshold=threshold,\n",
    "#               display_mode='z', cut_coords=3, black_bg=True,\n",
    "#               title='Active minus Rest (p<0.001)')\n",
    "# plt.show()\n",
    "\n",
    "# interactive plot\n",
    "plotting.view_img(z_map, bg_img=anat_img, threshold=threshold, vmax=12, cut_coords=[-42, -16, 52], title=\"Active minus Rest (p<0.001)\") \n"
   ]
  },
  {
   "cell_type": "code",
   "execution_count": null,
   "metadata": {},
   "outputs": [],
   "source": [
    "_, threshold = threshold_stats_img(\n",
    "    z_map, alpha=.05, height_control='bonferroni')\n",
    "print('Bonferroni-corrected, p<0.05 threshold: %.3f' % threshold)\n",
    "# plot_stat_map(z_map, bg_img=anat_img, threshold=threshold,\n",
    "#               display_mode='z', cut_coords=3, black_bg=True,\n",
    "#               title='Active minus Rest (p<0.05, corrected)')\n",
    "# plt.show()\n",
    "\n",
    "plotting.view_img(z_map, bg_img=anat_img, threshold=threshold, vmax=12, cut_coords=[-42, -16, 52], title=\"Active minus Rest (p<0.05, corrected)\") \n"
   ]
  },
  {
   "cell_type": "code",
   "execution_count": null,
   "metadata": {},
   "outputs": [],
   "source": [
    "_, threshold = threshold_stats_img(z_map, alpha=.05, height_control='fdr')\n",
    "print('False Discovery rate = 0.05 threshold: %.3f' % threshold)\n",
    "plot_stat_map(z_map, bg_img=anat_img, threshold=threshold,\n",
    "              display_mode='z', cut_coords=3, black_bg=True,\n",
    "              title='Active minus Rest (fdr=0.05)')\n",
    "plt.show()"
   ]
  },
  {
   "cell_type": "code",
   "execution_count": null,
   "metadata": {},
   "outputs": [],
   "source": [
    "clean_map, threshold = threshold_stats_img(\n",
    "    z_map, alpha=.05, height_control='fdr', cluster_threshold=10)\n",
    "plot_stat_map(clean_map, bg_img=anat_img, threshold=threshold,\n",
    "              display_mode='z', cut_coords=3, black_bg=True,\n",
    "              title='Active minus Rest (fdr=0.05), clusters > 10 voxels')\n",
    "plt.show()"
   ]
  },
  {
   "cell_type": "code",
   "execution_count": null,
   "metadata": {},
   "outputs": [],
   "source": []
  }
 ],
 "metadata": {
  "kernelspec": {
   "display_name": "Python 3",
   "language": "python",
   "name": "python3"
  },
  "language_info": {
   "codemirror_mode": {
    "name": "ipython",
    "version": 3
   },
   "file_extension": ".py",
   "mimetype": "text/x-python",
   "name": "python",
   "nbconvert_exporter": "python",
   "pygments_lexer": "ipython3",
   "version": "3.7.7"
  }
 },
 "nbformat": 4,
 "nbformat_minor": 4
}
